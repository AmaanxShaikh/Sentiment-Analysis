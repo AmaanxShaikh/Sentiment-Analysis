{
 "cells": [
  {
   "cell_type": "markdown",
   "id": "6617881b",
   "metadata": {},
   "source": [
    "# Sentiment Analysis"
   ]
  },
  {
   "cell_type": "code",
   "execution_count": 5,
   "id": "3a1fd523",
   "metadata": {},
   "outputs": [],
   "source": [
    "import pandas as pd\n",
    "import numpy as np\n",
    "import tensorflow as tf\n",
    "from tensorflow import keras\n",
    "import tensorflow_hub as hub\n",
    "import os\n",
    "import matplotlib.pyplot as plt\n",
    "import seaborn as sns\n",
    "import tensorflow_text as text"
   ]
  },
  {
   "cell_type": "code",
   "execution_count": 6,
   "id": "c9189ebc",
   "metadata": {},
   "outputs": [
    {
     "data": {
      "text/html": [
       "<div>\n",
       "<style scoped>\n",
       "    .dataframe tbody tr th:only-of-type {\n",
       "        vertical-align: middle;\n",
       "    }\n",
       "\n",
       "    .dataframe tbody tr th {\n",
       "        vertical-align: top;\n",
       "    }\n",
       "\n",
       "    .dataframe thead th {\n",
       "        text-align: right;\n",
       "    }\n",
       "</style>\n",
       "<table border=\"1\" class=\"dataframe\">\n",
       "  <thead>\n",
       "    <tr style=\"text-align: right;\">\n",
       "      <th></th>\n",
       "      <th>clean_comment</th>\n",
       "      <th>category</th>\n",
       "    </tr>\n",
       "  </thead>\n",
       "  <tbody>\n",
       "    <tr>\n",
       "      <th>0</th>\n",
       "      <td>family mormon have never tried explain them t...</td>\n",
       "      <td>1</td>\n",
       "    </tr>\n",
       "    <tr>\n",
       "      <th>1</th>\n",
       "      <td>buddhism has very much lot compatible with chr...</td>\n",
       "      <td>1</td>\n",
       "    </tr>\n",
       "    <tr>\n",
       "      <th>2</th>\n",
       "      <td>seriously don say thing first all they won get...</td>\n",
       "      <td>-1</td>\n",
       "    </tr>\n",
       "    <tr>\n",
       "      <th>3</th>\n",
       "      <td>what you have learned yours and only yours wha...</td>\n",
       "      <td>0</td>\n",
       "    </tr>\n",
       "    <tr>\n",
       "      <th>4</th>\n",
       "      <td>for your own benefit you may want read living ...</td>\n",
       "      <td>1</td>\n",
       "    </tr>\n",
       "  </tbody>\n",
       "</table>\n",
       "</div>"
      ],
      "text/plain": [
       "                                       clean_comment  category\n",
       "0   family mormon have never tried explain them t...         1\n",
       "1  buddhism has very much lot compatible with chr...         1\n",
       "2  seriously don say thing first all they won get...        -1\n",
       "3  what you have learned yours and only yours wha...         0\n",
       "4  for your own benefit you may want read living ...         1"
      ]
     },
     "execution_count": 6,
     "metadata": {},
     "output_type": "execute_result"
    }
   ],
   "source": [
    "data = pd.read_csv(\"Reddit_Data.csv\")\n",
    "data.head()"
   ]
  },
  {
   "cell_type": "code",
   "execution_count": 3,
   "id": "9be6280b",
   "metadata": {},
   "outputs": [
    {
     "data": {
      "text/plain": [
       "'are you guys seriously pissed about idli sambar remark thought were past all this second thoughts one gives shit about the tea party not even the their craziness got too much even for the hardcore republicans '"
      ]
     },
     "execution_count": 3,
     "metadata": {},
     "output_type": "execute_result"
    }
   ],
   "source": [
    "data.clean_comment[50]"
   ]
  },
  {
   "cell_type": "code",
   "execution_count": 4,
   "id": "c618eecb",
   "metadata": {},
   "outputs": [
    {
     "data": {
      "text/plain": [
       "clean_comment    100\n",
       "category           0\n",
       "dtype: int64"
      ]
     },
     "execution_count": 4,
     "metadata": {},
     "output_type": "execute_result"
    }
   ],
   "source": [
    "data.isna().sum()"
   ]
  },
  {
   "cell_type": "code",
   "execution_count": 5,
   "id": "ad8380ed",
   "metadata": {},
   "outputs": [
    {
     "data": {
      "text/plain": [
       " 1    15830\n",
       "-1     8277\n",
       "Name: category, dtype: int64"
      ]
     },
     "execution_count": 5,
     "metadata": {},
     "output_type": "execute_result"
    }
   ],
   "source": [
    "data = data[data.category!=0]\n",
    "data.category.value_counts()"
   ]
  },
  {
   "cell_type": "code",
   "execution_count": 6,
   "id": "5e69b785",
   "metadata": {},
   "outputs": [
    {
     "data": {
      "text/plain": [
       "1    15830\n",
       "0     8277\n",
       "Name: category, dtype: int64"
      ]
     },
     "execution_count": 6,
     "metadata": {},
     "output_type": "execute_result"
    }
   ],
   "source": [
    "data.category = data.category.replace({1:1,-1:0})\n",
    "data.category.value_counts()"
   ]
  },
  {
   "cell_type": "code",
   "execution_count": 7,
   "id": "04ac325e",
   "metadata": {},
   "outputs": [
    {
     "data": {
      "image/png": "[encoded data removed]",
      "text/plain": [
       "<Figure size 432x288 with 1 Axes>"
      ]
     },
     "metadata": {
      "needs_background": "light"
     },
     "output_type": "display_data"
    }
   ],
   "source": [
    "data.category.value_counts().plot(kind='bar');\n",
    "plt.title(\"Count of Positive and Negative Reviews\");\n",
    "plt.xlabel(['Positive',\"Negative\"]);"
   ]
  },
  {
   "cell_type": "code",
   "execution_count": 8,
   "id": "68a399bb",
   "metadata": {},
   "outputs": [],
   "source": [
    "data = data.sample(1200)"
   ]
  },
  {
   "cell_type": "code",
   "execution_count": 9,
   "id": "2a32cb51",
   "metadata": {},
   "outputs": [
    {
     "name": "stdout",
     "output_type": "stream",
     "text": [
      "795 405\n"
     ]
    }
   ],
   "source": [
    "count_1, count_0 =data.category.value_counts()\n",
    "print(count_1,count_0)"
   ]
  },
  {
   "cell_type": "code",
   "execution_count": 10,
   "id": "3c7b6135",
   "metadata": {},
   "outputs": [],
   "source": [
    "data_count_0 = data[data.category == 0]\n",
    "data_count_1 = data[data.category == 1]"
   ]
  },
  {
   "cell_type": "code",
   "execution_count": 11,
   "id": "5dd17bd9",
   "metadata": {},
   "outputs": [
    {
     "data": {
      "text/plain": [
       "405"
      ]
     },
     "execution_count": 11,
     "metadata": {},
     "output_type": "execute_result"
    }
   ],
   "source": [
    "len(data_count_0)"
   ]
  },
  {
   "cell_type": "code",
   "execution_count": 12,
   "id": "6163fe3a",
   "metadata": {},
   "outputs": [
    {
     "data": {
      "text/plain": [
       "795"
      ]
     },
     "execution_count": 12,
     "metadata": {},
     "output_type": "execute_result"
    }
   ],
   "source": [
    "len(data_count_1)"
   ]
  },
  {
   "cell_type": "code",
   "execution_count": 13,
   "id": "fe63dafc",
   "metadata": {},
   "outputs": [
    {
     "data": {
      "text/plain": [
       "1    405\n",
       "0    405\n",
       "Name: category, dtype: int64"
      ]
     },
     "execution_count": 13,
     "metadata": {},
     "output_type": "execute_result"
    }
   ],
   "source": [
    "data_undersampled = data_count_1.sample(count_0)\n",
    "finaldata = pd.concat([data_undersampled,data_count_0])\n",
    "finaldata.category.value_counts()"
   ]
  },
  {
   "cell_type": "code",
   "execution_count": 14,
   "id": "dd9d8206",
   "metadata": {},
   "outputs": [
    {
     "data": {
      "text/html": [
       "<div>\n",
       "<style scoped>\n",
       "    .dataframe tbody tr th:only-of-type {\n",
       "        vertical-align: middle;\n",
       "    }\n",
       "\n",
       "    .dataframe tbody tr th {\n",
       "        vertical-align: top;\n",
       "    }\n",
       "\n",
       "    .dataframe thead th {\n",
       "        text-align: right;\n",
       "    }\n",
       "</style>\n",
       "<table border=\"1\" class=\"dataframe\">\n",
       "  <thead>\n",
       "    <tr style=\"text-align: right;\">\n",
       "      <th></th>\n",
       "      <th>clean_comment</th>\n",
       "    </tr>\n",
       "  </thead>\n",
       "  <tbody>\n",
       "    <tr>\n",
       "      <th>1259</th>\n",
       "      <td>newly released sat image the image field 76km ...</td>\n",
       "    </tr>\n",
       "    <tr>\n",
       "      <th>28044</th>\n",
       "      <td>feels nice and all but find cyber attacks ran...</td>\n",
       "    </tr>\n",
       "    <tr>\n",
       "      <th>824</th>\n",
       "      <td>are you corrupt mind please sir what does tha...</td>\n",
       "    </tr>\n",
       "    <tr>\n",
       "      <th>7446</th>\n",
       "      <td>videocon videoind exited the telecom services...</td>\n",
       "    </tr>\n",
       "    <tr>\n",
       "      <th>125</th>\n",
       "      <td>social media technology from the west</td>\n",
       "    </tr>\n",
       "  </tbody>\n",
       "</table>\n",
       "</div>"
      ],
      "text/plain": [
       "                                           clean_comment\n",
       "1259   newly released sat image the image field 76km ...\n",
       "28044   feels nice and all but find cyber attacks ran...\n",
       "824     are you corrupt mind please sir what does tha...\n",
       "7446    videocon videoind exited the telecom services...\n",
       "125               social media technology from the west "
      ]
     },
     "execution_count": 14,
     "metadata": {},
     "output_type": "execute_result"
    }
   ],
   "source": [
    "X = data.drop(['category'],axis =1)\n",
    "X.head()"
   ]
  },
  {
   "cell_type": "code",
   "execution_count": 15,
   "id": "d67c8347",
   "metadata": {},
   "outputs": [
    {
     "data": {
      "text/plain": [
       "1259     1\n",
       "28044    1\n",
       "824      0\n",
       "7446     0\n",
       "125      1\n",
       "Name: category, dtype: int64"
      ]
     },
     "execution_count": 15,
     "metadata": {},
     "output_type": "execute_result"
    }
   ],
   "source": [
    "y = data['category']\n",
    "y.head()"
   ]
  },
  {
   "cell_type": "code",
   "execution_count": 16,
   "id": "3040b7bc",
   "metadata": {},
   "outputs": [],
   "source": [
    "from sklearn.model_selection import train_test_split"
   ]
  },
  {
   "cell_type": "code",
   "execution_count": 17,
   "id": "d4130380",
   "metadata": {},
   "outputs": [],
   "source": [
    "X_train, X_test, y_train, y_test = train_test_split(X,y,test_size=0.2, random_state=10)"
   ]
  },
  {
   "cell_type": "code",
   "execution_count": 18,
   "id": "8149f1e5",
   "metadata": {},
   "outputs": [
    {
     "name": "stdout",
     "output_type": "stream",
     "text": [
      "WARNING:tensorflow:Please fix your imports. Module tensorflow.python.training.tracking.data_structures has been moved to tensorflow.python.trackable.data_structures. The old module will be deleted in version 2.11.\n"
     ]
    }
   ],
   "source": [
    "bert_preprocess = hub.KerasLayer(\"https://tfhub.dev/tensorflow/bert_en_uncased_preprocess/3\")\n",
    "bert_encoder = hub.KerasLayer(\"https://tfhub.dev/tensorflow/bert_en_uncased_L-12_H-768_A-12/4\")"
   ]
  },
  {
   "cell_type": "code",
   "execution_count": 75,
   "id": "8af76426",
   "metadata": {},
   "outputs": [
    {
     "name": "stdout",
     "output_type": "stream",
     "text": [
      "Epoch 1/5\n",
      "30/30 [==============================] - 217s 7s/step - loss: 0.6918 - accuracy: 0.6073\n",
      "Epoch 2/5\n",
      "30/30 [==============================] - 215s 7s/step - loss: 0.6579 - accuracy: 0.6333\n",
      "Epoch 3/5\n",
      "30/30 [==============================] - 218s 7s/step - loss: 0.6639 - accuracy: 0.6198\n",
      "Epoch 4/5\n",
      "30/30 [==============================] - 225s 7s/step - loss: 0.6707 - accuracy: 0.6302\n",
      "Epoch 5/5\n",
      "30/30 [==============================] - 226s 8s/step - loss: 0.6602 - accuracy: 0.6344\n"
     ]
    },
    {
     "data": {
      "text/plain": [
       "<keras.callbacks.History at 0x24a29ec1520>"
      ]
     },
     "execution_count": 75,
     "metadata": {},
     "output_type": "execute_result"
    }
   ],
   "source": [
    "inputs = keras.layers.Input(shape = (), dtype= tf.string, name = 'input')\n",
    "preprocessed_text = bert_preprocess(inputs)\n",
    "output = bert_encoder(preprocessed_text)\n",
    "\n",
    "l = keras.layers.Dropout(0.1, name='dropout')(output['pooled_output'])\n",
    "l = keras.layers.Dense(10, name = 'hidden')(l)\n",
    "l = keras.layers.Dense(1, activation='sigmoid')(l)\n",
    "\n",
    "model = keras.Model([inputs],[l])\n",
    "\n",
    "model.compile(\n",
    "    optimizer='adam',\n",
    "    loss = 'binary_crossentropy',\n",
    "    metrics=['accuracy']\n",
    ")\n",
    "\n",
    "model.fit(X_train,y_train, epochs=5)"
   ]
  },
  {
   "cell_type": "code",
   "execution_count": 83,
   "id": "9219c7ab",
   "metadata": {},
   "outputs": [],
   "source": [
    "def get_sentiment(text):\n",
    "    sen = model.predict(text)\n",
    "    for i  in sen:\n",
    "        if i>0.69:\n",
    "            print(\"Positive Sentiment\")\n",
    "        else:\n",
    "            print(\"Negative Sentiment\")"
   ]
  },
  {
   "cell_type": "code",
   "execution_count": 84,
   "id": "ca700f1b",
   "metadata": {},
   "outputs": [
    {
     "name": "stdout",
     "output_type": "stream",
     "text": [
      "1/1 [==============================] - 0s 327ms/step\n",
      "Negative Sentiment\n"
     ]
    }
   ],
   "source": [
    "get_sentiment([\"This is very tragic\"])"
   ]
  },
  {
   "cell_type": "code",
   "execution_count": 88,
   "id": "fa14f305",
   "metadata": {},
   "outputs": [
    {
     "name": "stdout",
     "output_type": "stream",
     "text": [
      "1/1 [==============================] - 0s 305ms/step\n",
      "Positive Sentiment\n"
     ]
    }
   ],
   "source": [
    "get_sentiment([\"I am very happy today!\"])"
   ]
  },
  {
   "cell_type": "code",
   "execution_count": 89,
   "id": "b8096cba",
   "metadata": {},
   "outputs": [
    {
     "name": "stdout",
     "output_type": "stream",
     "text": [
      "1/1 [==============================] - 0s 304ms/step\n",
      "Positive Sentiment\n"
     ]
    }
   ],
   "source": [
    "get_sentiment([\"If you want to make your life happy, work for it!\"])"
   ]
  },
  {
   "cell_type": "code",
   "execution_count": 91,
   "id": "2e7c79d5",
   "metadata": {},
   "outputs": [
    {
     "name": "stdout",
     "output_type": "stream",
     "text": [
      "1/1 [==============================] - 0s 307ms/step\n",
      "Negative Sentiment\n"
     ]
    }
   ],
   "source": [
    "get_sentiment([\"My friend died in a car accident\"])"
   ]
  },
  {
   "cell_type": "code",
   "execution_count": null,
   "id": "c1a394bb",
   "metadata": {},
   "outputs": [],
   "source": []
  }
 ],
 "metadata": {
  "kernelspec": {
   "display_name": "Python 3 (ipykernel)",
   "language": "python",
   "name": "python3"
  },
  "language_info": {
   "codemirror_mode": {
    "name": "ipython",
    "version": 3
   },
   "file_extension": ".py",
   "mimetype": "text/x-python",
   "name": "python",
   "nbconvert_exporter": "python",
   "pygments_lexer": "ipython3",
   "version": "3.11.4"
  }
 },
 "nbformat": 4,
 "nbformat_minor": 5
}
